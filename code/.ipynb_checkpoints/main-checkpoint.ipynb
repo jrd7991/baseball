{
 "cells": [
  {
   "cell_type": "code",
   "execution_count": 49,
   "metadata": {
    "collapsed": false
   },
   "outputs": [],
   "source": [
    "import numpy as np\n",
    "import pandas as pd\n",
    "from sklearn.ensemble import RandomForestClassifier\n",
    "# from sklearn.ensemble import kmeans\n",
    "from sklearn.neighbors import KNeighborsClassifier\n",
    "import sqlite3"
   ]
  },
  {
   "cell_type": "code",
   "execution_count": 51,
   "metadata": {
    "collapsed": false
   },
   "outputs": [
    {
     "data": {
      "text/html": [
       "<div>\n",
       "<table border=\"1\" class=\"dataframe\">\n",
       "  <thead>\n",
       "    <tr style=\"text-align: right;\">\n",
       "      <th></th>\n",
       "      <th>Rk</th>\n",
       "      <th>Name</th>\n",
       "      <th>Age</th>\n",
       "      <th>Tm</th>\n",
       "      <th>Lg</th>\n",
       "      <th>G</th>\n",
       "      <th>PA</th>\n",
       "      <th>AB</th>\n",
       "      <th>R</th>\n",
       "      <th>H</th>\n",
       "      <th>...</th>\n",
       "      <th>SLG</th>\n",
       "      <th>OPS</th>\n",
       "      <th>OPS+</th>\n",
       "      <th>TB</th>\n",
       "      <th>GDP</th>\n",
       "      <th>HBP</th>\n",
       "      <th>SH</th>\n",
       "      <th>SF</th>\n",
       "      <th>IBB</th>\n",
       "      <th>Pos Summary</th>\n",
       "    </tr>\n",
       "    <tr>\n",
       "      <th>Name</th>\n",
       "      <th></th>\n",
       "      <th></th>\n",
       "      <th></th>\n",
       "      <th></th>\n",
       "      <th></th>\n",
       "      <th></th>\n",
       "      <th></th>\n",
       "      <th></th>\n",
       "      <th></th>\n",
       "      <th></th>\n",
       "      <th></th>\n",
       "      <th></th>\n",
       "      <th></th>\n",
       "      <th></th>\n",
       "      <th></th>\n",
       "      <th></th>\n",
       "      <th></th>\n",
       "      <th></th>\n",
       "      <th></th>\n",
       "      <th></th>\n",
       "      <th></th>\n",
       "    </tr>\n",
       "  </thead>\n",
       "  <tbody>\n",
       "    <tr>\n",
       "      <th>Fernando Abad</th>\n",
       "      <td>1</td>\n",
       "      <td>Fernando Abad</td>\n",
       "      <td>28</td>\n",
       "      <td>OAK</td>\n",
       "      <td>AL</td>\n",
       "      <td>69</td>\n",
       "      <td>0</td>\n",
       "      <td>-0.680519</td>\n",
       "      <td>0</td>\n",
       "      <td>-0.633239</td>\n",
       "      <td>...</td>\n",
       "      <td>NaN</td>\n",
       "      <td>NaN</td>\n",
       "      <td>NaN</td>\n",
       "      <td>0</td>\n",
       "      <td>0</td>\n",
       "      <td>0</td>\n",
       "      <td>0</td>\n",
       "      <td>0</td>\n",
       "      <td>0</td>\n",
       "      <td>1</td>\n",
       "    </tr>\n",
       "    <tr>\n",
       "      <th>Bobby Abreu</th>\n",
       "      <td>2</td>\n",
       "      <td>Bobby Abreu</td>\n",
       "      <td>40</td>\n",
       "      <td>NYM</td>\n",
       "      <td>NL</td>\n",
       "      <td>78</td>\n",
       "      <td>155</td>\n",
       "      <td>0.037495</td>\n",
       "      <td>12</td>\n",
       "      <td>0.026858</td>\n",
       "      <td>...</td>\n",
       "      <td>0.366632</td>\n",
       "      <td>.680</td>\n",
       "      <td>97</td>\n",
       "      <td>45</td>\n",
       "      <td>3</td>\n",
       "      <td>0</td>\n",
       "      <td>0</td>\n",
       "      <td>2</td>\n",
       "      <td>0</td>\n",
       "      <td>9/7D</td>\n",
       "    </tr>\n",
       "    <tr>\n",
       "      <th>Jose Abreu</th>\n",
       "      <td>3</td>\n",
       "      <td>Jose Abreu</td>\n",
       "      <td>27</td>\n",
       "      <td>CHW</td>\n",
       "      <td>AL</td>\n",
       "      <td>145</td>\n",
       "      <td>622</td>\n",
       "      <td>2.321104</td>\n",
       "      <td>80</td>\n",
       "      <td>2.887280</td>\n",
       "      <td>...</td>\n",
       "      <td>1.735319</td>\n",
       "      <td>.964</td>\n",
       "      <td>173</td>\n",
       "      <td>323</td>\n",
       "      <td>14</td>\n",
       "      <td>11</td>\n",
       "      <td>0</td>\n",
       "      <td>4</td>\n",
       "      <td>15</td>\n",
       "      <td>*3D</td>\n",
       "    </tr>\n",
       "    <tr>\n",
       "      <th>Tony Abreu</th>\n",
       "      <td>4</td>\n",
       "      <td>Tony Abreu</td>\n",
       "      <td>29</td>\n",
       "      <td>SFG</td>\n",
       "      <td>NL</td>\n",
       "      <td>3</td>\n",
       "      <td>4</td>\n",
       "      <td>-0.658925</td>\n",
       "      <td>0</td>\n",
       "      <td>-0.633239</td>\n",
       "      <td>...</td>\n",
       "      <td>-1.537139</td>\n",
       "      <td>.000</td>\n",
       "      <td>-100</td>\n",
       "      <td>0</td>\n",
       "      <td>1</td>\n",
       "      <td>0</td>\n",
       "      <td>0</td>\n",
       "      <td>0</td>\n",
       "      <td>0</td>\n",
       "      <td>/45</td>\n",
       "    </tr>\n",
       "    <tr>\n",
       "      <th>Alfredo Aceves</th>\n",
       "      <td>5</td>\n",
       "      <td>Alfredo Aceves</td>\n",
       "      <td>31</td>\n",
       "      <td>NYY</td>\n",
       "      <td>AL</td>\n",
       "      <td>10</td>\n",
       "      <td>0</td>\n",
       "      <td>-0.680519</td>\n",
       "      <td>0</td>\n",
       "      <td>-0.633239</td>\n",
       "      <td>...</td>\n",
       "      <td>NaN</td>\n",
       "      <td>NaN</td>\n",
       "      <td>NaN</td>\n",
       "      <td>0</td>\n",
       "      <td>0</td>\n",
       "      <td>0</td>\n",
       "      <td>0</td>\n",
       "      <td>0</td>\n",
       "      <td>0</td>\n",
       "      <td>1</td>\n",
       "    </tr>\n",
       "  </tbody>\n",
       "</table>\n",
       "<p>5 rows × 30 columns</p>\n",
       "</div>"
      ],
      "text/plain": [
       "               Rk            Name Age   Tm  Lg    G   PA        AB   R  \\\n",
       "Name                                                                     \n",
       "Fernando Abad   1   Fernando Abad  28  OAK  AL   69    0 -0.680519   0   \n",
       "Bobby Abreu     2     Bobby Abreu  40  NYM  NL   78  155  0.037495  12   \n",
       "Jose Abreu      3      Jose Abreu  27  CHW  AL  145  622  2.321104  80   \n",
       "Tony Abreu      4      Tony Abreu  29  SFG  NL    3    4 -0.658925   0   \n",
       "Alfredo Aceves  5  Alfredo Aceves  31  NYY  AL   10    0 -0.680519   0   \n",
       "\n",
       "                       H     ...            SLG   OPS  OPS+   TB GDP HBP  SH  \\\n",
       "Name                         ...                                               \n",
       "Fernando Abad  -0.633239     ...            NaN   NaN   NaN    0   0   0   0   \n",
       "Bobby Abreu     0.026858     ...       0.366632  .680    97   45   3   0   0   \n",
       "Jose Abreu      2.887280     ...       1.735319  .964   173  323  14  11   0   \n",
       "Tony Abreu     -0.633239     ...      -1.537139  .000  -100    0   1   0   0   \n",
       "Alfredo Aceves -0.633239     ...            NaN   NaN   NaN    0   0   0   0   \n",
       "\n",
       "               SF IBB  Pos Summary  \n",
       "Name                                \n",
       "Fernando Abad   0   0            1  \n",
       "Bobby Abreu     2   0         9/7D  \n",
       "Jose Abreu      4  15          *3D  \n",
       "Tony Abreu      0   0          /45  \n",
       "Alfredo Aceves  0   0            1  \n",
       "\n",
       "[5 rows x 30 columns]"
      ]
     },
     "execution_count": 51,
     "metadata": {},
     "output_type": "execute_result"
    }
   ],
   "source": [
    "ba2014 = pd.read_csv(\"data/leagues_MLB_2014-standard-batting_players_standard_batting.csv\")\n",
    "pa2014 = pd.read_csv(\"data/leagues_MLB_2014-standard-pitching_players_standard_pitching.csv\")\n",
    "ids = pd.read_csv(\"data/id.csv\")\n",
    "\n",
    "ba2014 = ba2014[ba2014[\"Name\"]!=\"Name\"]\n",
    "pa2014 = pa2014[pa2014[\"Name\"]!=\"Name\"]\n",
    "\n",
    "ids[\"fullname\"] = ids[\"first\"].map(str) + \" \" + ids[\"last\"].map(str)\n",
    "\n",
    "ba2014[\"Name\"] = ba2014[\"Name\"].str.replace('*', '')\n",
    "ba2014[\"Name\"] = ba2014[\"Name\"].str.replace('#', '')\n",
    "\n",
    "pa2014[\"Name\"] = pa2014[\"Name\"].str.replace('*', '')\n",
    "pa2014[\"Name\"] = pa2014[\"Name\"].str.replace('#', '')\n",
    "\n",
    "ba2014 = ba2014.set_index(\"Name\",drop=False)\n",
    "pa2014 = pa2014.set_index(\"Name\",drop=False)\n",
    "\n",
    "ba2014 = ba2014[~ba2014.index.duplicated(keep='first')]\n",
    "pa2014 = pa2014[~pa2014.index.duplicated(keep='first')]\n",
    "\n",
    "traincols = ['OBP','SLG','FIP','WHIP','BB','HR','H','AB']\n",
    "ba2014[['OBP','SLG','BB','HR','H','AB']] = ba2014[['OBP','SLG','BB','HR','H','AB']].astype(float)\n",
    "ba2014[['OBP','SLG','BB','HR','H','AB']] = ba2014[['OBP','SLG','BB','HR','H','AB']].apply(lambda x: (x - x.mean()) / x.std())\n",
    "pa2014[['FIP','WHIP']] = pa2014[['FIP','WHIP']].astype(float)\n",
    "pa2014[['FIP','WHIP']] = pa2014[['FIP','WHIP']].apply(lambda x: (x - x.mean()) / x.std())\n",
    "\n",
    "ba2014.head()"
   ]
  },
  {
   "cell_type": "code",
   "execution_count": 52,
   "metadata": {
    "collapsed": false
   },
   "outputs": [
    {
     "data": {
      "text/html": [
       "<div>\n",
       "<table border=\"1\" class=\"dataframe\">\n",
       "  <thead>\n",
       "    <tr style=\"text-align: right;\">\n",
       "      <th></th>\n",
       "      <th>BAT_ID</th>\n",
       "      <th>BAT_HAND_CD</th>\n",
       "      <th>PIT_ID</th>\n",
       "      <th>PIT_HAND_CD</th>\n",
       "      <th>EVENT_TX</th>\n",
       "      <th>bref_name</th>\n",
       "      <th>bref_name_pit</th>\n",
       "    </tr>\n",
       "  </thead>\n",
       "  <tbody>\n",
       "    <tr>\n",
       "      <th>0</th>\n",
       "      <td>almoa001</td>\n",
       "      <td>L</td>\n",
       "      <td>weavj003</td>\n",
       "      <td>R</td>\n",
       "      <td>S</td>\n",
       "      <td>Abraham Almonte</td>\n",
       "      <td>Jered Weaver</td>\n",
       "    </tr>\n",
       "    <tr>\n",
       "      <th>1</th>\n",
       "      <td>millb002</td>\n",
       "      <td>L</td>\n",
       "      <td>weavj003</td>\n",
       "      <td>R</td>\n",
       "      <td>O</td>\n",
       "      <td>Brad Miller</td>\n",
       "      <td>Jered Weaver</td>\n",
       "    </tr>\n",
       "    <tr>\n",
       "      <th>2</th>\n",
       "      <td>millb002</td>\n",
       "      <td>L</td>\n",
       "      <td>weavj003</td>\n",
       "      <td>R</td>\n",
       "      <td>O</td>\n",
       "      <td>Brad Miller</td>\n",
       "      <td>Jered Weaver</td>\n",
       "    </tr>\n",
       "    <tr>\n",
       "      <th>3</th>\n",
       "      <td>canor001</td>\n",
       "      <td>L</td>\n",
       "      <td>weavj003</td>\n",
       "      <td>R</td>\n",
       "      <td>O</td>\n",
       "      <td>Robinson Cano</td>\n",
       "      <td>Jered Weaver</td>\n",
       "    </tr>\n",
       "    <tr>\n",
       "      <th>4</th>\n",
       "      <td>calhk001</td>\n",
       "      <td>L</td>\n",
       "      <td>hernf002</td>\n",
       "      <td>R</td>\n",
       "      <td>S</td>\n",
       "      <td>Kole Calhoun</td>\n",
       "      <td>Felix Hernandez</td>\n",
       "    </tr>\n",
       "  </tbody>\n",
       "</table>\n",
       "</div>"
      ],
      "text/plain": [
       "     BAT_ID BAT_HAND_CD    PIT_ID PIT_HAND_CD EVENT_TX        bref_name  \\\n",
       "0  almoa001           L  weavj003           R        S  Abraham Almonte   \n",
       "1  millb002           L  weavj003           R        O      Brad Miller   \n",
       "2  millb002           L  weavj003           R        O      Brad Miller   \n",
       "3  canor001           L  weavj003           R        O    Robinson Cano   \n",
       "4  calhk001           L  hernf002           R        S     Kole Calhoun   \n",
       "\n",
       "     bref_name_pit  \n",
       "0     Jered Weaver  \n",
       "1     Jered Weaver  \n",
       "2     Jered Weaver  \n",
       "3     Jered Weaver  \n",
       "4  Felix Hernandez  "
      ]
     },
     "execution_count": 52,
     "metadata": {},
     "output_type": "execute_result"
    }
   ],
   "source": [
    "cols = ['BAT_ID','PIT_ID','EVENT_TX','BAT_HAND_CD','PIT_HAND_CD']\n",
    "atbats = pd.read_csv(\"data/events-2014.csv\",usecols=cols)\n",
    "atbats['EVENT_TX'] = atbats['EVENT_TX'].apply(lambda x:  x[0] if x[0] in ('H','T','D','S','W') else \"O\")\n",
    "\n",
    "idref = pd.read_csv(\"data/master.csv\",usecols=['bref_name','retro_id'])\n",
    "idref = idref.set_index('retro_id')\n",
    "idref = idref.dropna()\n",
    "\n",
    "mydict = {}\n",
    "vals = np.concatenate([atbats['BAT_ID'].values,atbats['PIT_ID'].values])\n",
    "diff = np.setdiff1d(np.unique(vals),idref.index.values)\n",
    "for val in np.unique(vals):\n",
    "    if val in diff:\n",
    "        mydict[val] = False\n",
    "    else:\n",
    "        mydict[val] = True\n",
    "        \n",
    "\n",
    "def y(x):\n",
    "    if not mydict[x]:\n",
    "        return np.nan\n",
    "    else:\n",
    "        return idref.get_value(x,\"bref_name\")\n",
    "    \n",
    "atbats['bref_name'] = atbats['BAT_ID'].apply(y)\n",
    "atbats['bref_name_pit'] = atbats['PIT_ID'].apply(y)\n",
    "atbats.head()"
   ]
  },
  {
   "cell_type": "code",
   "execution_count": 53,
   "metadata": {
    "collapsed": false
   },
   "outputs": [],
   "source": [
    "atbats = atbats.dropna()\n",
    "atbats['OBP'] = atbats['bref_name'].apply(lambda x: ba2014.get_value(x,\"OBP\"))\n",
    "atbats['SLG'] = atbats['bref_name'].apply(lambda x: ba2014.get_value(x,\"SLG\"))\n",
    "atbats['BB'] = atbats['bref_name'].apply(lambda x: ba2014.get_value(x,\"BB\"))\n",
    "atbats['HR'] = atbats['bref_name'].apply(lambda x: ba2014.get_value(x,\"HR\"))\n",
    "atbats['H'] = atbats['bref_name'].apply(lambda x: ba2014.get_value(x,\"H\"))\n",
    "atbats['AB'] = atbats['bref_name'].apply(lambda x: ba2014.get_value(x,\"AB\"))\n",
    "atbats['FIP'] = atbats['bref_name_pit'].apply(lambda x: pa2014.get_value(x,\"FIP\"))\n",
    "atbats['WHIP'] = atbats['bref_name_pit'].apply(lambda x: pa2014.get_value(x,\"WHIP\"))\n",
    "\n",
    "\n",
    "\n",
    "# atbats[traincols] = atbats[traincols].astype(float)\n",
    "# atbats[traincols] = atbats[traincols].apply(lambda x: (x - x.mean()) / x.std())\n",
    "# atbats.dtypes"
   ]
  },
  {
   "cell_type": "code",
   "execution_count": 54,
   "metadata": {
    "collapsed": false
   },
   "outputs": [],
   "source": [
    "atbats = atbats.fillna(0)\n",
    "atbats['is_train'] = np.random.uniform(0, 1, len(atbats)) <= .75\n",
    "\n",
    "# traintarget = atbats['EVENT_TX']\n",
    "\n",
    "train, test = atbats[atbats['is_train']==True], atbats[atbats['is_train']==False]"
   ]
  },
  {
   "cell_type": "code",
   "execution_count": 77,
   "metadata": {
    "collapsed": false
   },
   "outputs": [
    {
     "data": {
      "text/plain": [
       "RandomForestClassifier(bootstrap=True, class_weight=None, criterion='gini',\n",
       "            max_depth=None, max_features='auto', max_leaf_nodes=None,\n",
       "            min_samples_leaf=1, min_samples_split=2,\n",
       "            min_weight_fraction_leaf=0.0, n_estimators=50, n_jobs=4,\n",
       "            oob_score=False, random_state=None, verbose=0,\n",
       "            warm_start=False)"
      ]
     },
     "execution_count": 77,
     "metadata": {},
     "output_type": "execute_result"
    }
   ],
   "source": [
    "clf = RandomForestClassifier(n_jobs=4,n_estimators=50)\n",
    "clf.fit(train[traincols], train['EVENT_TX'])"
   ]
  },
  {
   "cell_type": "code",
   "execution_count": 78,
   "metadata": {
    "collapsed": false
   },
   "outputs": [
    {
     "data": {
      "text/html": [
       "<div>\n",
       "<table border=\"1\" class=\"dataframe\">\n",
       "  <thead>\n",
       "    <tr style=\"text-align: right;\">\n",
       "      <th>preds</th>\n",
       "      <th>D</th>\n",
       "      <th>H</th>\n",
       "      <th>O</th>\n",
       "      <th>S</th>\n",
       "      <th>T</th>\n",
       "      <th>W</th>\n",
       "    </tr>\n",
       "    <tr>\n",
       "      <th>actual</th>\n",
       "      <th></th>\n",
       "      <th></th>\n",
       "      <th></th>\n",
       "      <th></th>\n",
       "      <th></th>\n",
       "      <th></th>\n",
       "    </tr>\n",
       "  </thead>\n",
       "  <tbody>\n",
       "    <tr>\n",
       "      <th>D</th>\n",
       "      <td>52</td>\n",
       "      <td>32</td>\n",
       "      <td>1718</td>\n",
       "      <td>197</td>\n",
       "      <td>6</td>\n",
       "      <td>73</td>\n",
       "    </tr>\n",
       "    <tr>\n",
       "      <th>H</th>\n",
       "      <td>32</td>\n",
       "      <td>25</td>\n",
       "      <td>1182</td>\n",
       "      <td>140</td>\n",
       "      <td>1</td>\n",
       "      <td>82</td>\n",
       "    </tr>\n",
       "    <tr>\n",
       "      <th>O</th>\n",
       "      <td>680</td>\n",
       "      <td>446</td>\n",
       "      <td>26530</td>\n",
       "      <td>3144</td>\n",
       "      <td>43</td>\n",
       "      <td>1210</td>\n",
       "    </tr>\n",
       "    <tr>\n",
       "      <th>S</th>\n",
       "      <td>174</td>\n",
       "      <td>106</td>\n",
       "      <td>6290</td>\n",
       "      <td>779</td>\n",
       "      <td>16</td>\n",
       "      <td>314</td>\n",
       "    </tr>\n",
       "    <tr>\n",
       "      <th>T</th>\n",
       "      <td>4</td>\n",
       "      <td>1</td>\n",
       "      <td>188</td>\n",
       "      <td>21</td>\n",
       "      <td>4</td>\n",
       "      <td>6</td>\n",
       "    </tr>\n",
       "    <tr>\n",
       "      <th>W</th>\n",
       "      <td>82</td>\n",
       "      <td>65</td>\n",
       "      <td>2861</td>\n",
       "      <td>377</td>\n",
       "      <td>5</td>\n",
       "      <td>201</td>\n",
       "    </tr>\n",
       "  </tbody>\n",
       "</table>\n",
       "</div>"
      ],
      "text/plain": [
       "preds     D    H      O     S   T     W\n",
       "actual                                 \n",
       "D        52   32   1718   197   6    73\n",
       "H        32   25   1182   140   1    82\n",
       "O       680  446  26530  3144  43  1210\n",
       "S       174  106   6290   779  16   314\n",
       "T         4    1    188    21   4     6\n",
       "W        82   65   2861   377   5   201"
      ]
     },
     "execution_count": 78,
     "metadata": {},
     "output_type": "execute_result"
    }
   ],
   "source": [
    "preds = clf.predict(test[traincols])\n",
    "pd.crosstab(test['EVENT_TX'], preds, rownames=['actual'], colnames=['preds'])"
   ]
  },
  {
   "cell_type": "code",
   "execution_count": 79,
   "metadata": {
    "collapsed": false
   },
   "outputs": [
    {
     "name": "stdout",
     "output_type": "stream",
     "text": [
      "0.585957907702763\n"
     ]
    }
   ],
   "source": [
    "# corrects = len(test[(((preds!=\"O\") & (test['EVENT_TX'] !=\"O\"))) | (preds == test['EVENT_TX'])])\n",
    "corrects = len(test[preds == test['EVENT_TX']])\n",
    "print(corrects/len(test))"
   ]
  },
  {
   "cell_type": "code",
   "execution_count": 80,
   "metadata": {
    "collapsed": false
   },
   "outputs": [
    {
     "data": {
      "text/plain": [
       "array([ 0.04040794,  0.03785813,  0.3909151 ,  0.40105228,  0.0330731 ,\n",
       "        0.02574046,  0.03461137,  0.03634161])"
      ]
     },
     "execution_count": 80,
     "metadata": {},
     "output_type": "execute_result"
    }
   ],
   "source": [
    "clf.feature_importances_"
   ]
  },
  {
   "cell_type": "code",
   "execution_count": 81,
   "metadata": {
    "collapsed": false
   },
   "outputs": [
    {
     "data": {
      "text/plain": [
       "KNeighborsClassifier(algorithm='auto', leaf_size=30, metric='minkowski',\n",
       "           metric_params=None, n_jobs=1, n_neighbors=30, p=2,\n",
       "           weights='uniform')"
      ]
     },
     "execution_count": 81,
     "metadata": {},
     "output_type": "execute_result"
    }
   ],
   "source": [
    "model = KNeighborsClassifier(n_neighbors=30)\n",
    "model.fit(train[traincols], train['EVENT_TX'])"
   ]
  },
  {
   "cell_type": "code",
   "execution_count": 82,
   "metadata": {
    "collapsed": false
   },
   "outputs": [
    {
     "data": {
      "text/html": [
       "<div>\n",
       "<table border=\"1\" class=\"dataframe\">\n",
       "  <thead>\n",
       "    <tr style=\"text-align: right;\">\n",
       "      <th>preds2</th>\n",
       "      <th>H</th>\n",
       "      <th>O</th>\n",
       "      <th>S</th>\n",
       "      <th>W</th>\n",
       "    </tr>\n",
       "    <tr>\n",
       "      <th>actual</th>\n",
       "      <th></th>\n",
       "      <th></th>\n",
       "      <th></th>\n",
       "      <th></th>\n",
       "    </tr>\n",
       "  </thead>\n",
       "  <tbody>\n",
       "    <tr>\n",
       "      <th>D</th>\n",
       "      <td>0</td>\n",
       "      <td>2077</td>\n",
       "      <td>1</td>\n",
       "      <td>0</td>\n",
       "    </tr>\n",
       "    <tr>\n",
       "      <th>H</th>\n",
       "      <td>2</td>\n",
       "      <td>1460</td>\n",
       "      <td>0</td>\n",
       "      <td>0</td>\n",
       "    </tr>\n",
       "    <tr>\n",
       "      <th>O</th>\n",
       "      <td>0</td>\n",
       "      <td>32024</td>\n",
       "      <td>28</td>\n",
       "      <td>1</td>\n",
       "    </tr>\n",
       "    <tr>\n",
       "      <th>S</th>\n",
       "      <td>0</td>\n",
       "      <td>7669</td>\n",
       "      <td>9</td>\n",
       "      <td>1</td>\n",
       "    </tr>\n",
       "    <tr>\n",
       "      <th>T</th>\n",
       "      <td>0</td>\n",
       "      <td>224</td>\n",
       "      <td>0</td>\n",
       "      <td>0</td>\n",
       "    </tr>\n",
       "    <tr>\n",
       "      <th>W</th>\n",
       "      <td>1</td>\n",
       "      <td>3586</td>\n",
       "      <td>4</td>\n",
       "      <td>0</td>\n",
       "    </tr>\n",
       "  </tbody>\n",
       "</table>\n",
       "</div>"
      ],
      "text/plain": [
       "preds2  H      O   S  W\n",
       "actual                 \n",
       "D       0   2077   1  0\n",
       "H       2   1460   0  0\n",
       "O       0  32024  28  1\n",
       "S       0   7669   9  1\n",
       "T       0    224   0  0\n",
       "W       1   3586   4  0"
      ]
     },
     "execution_count": 82,
     "metadata": {},
     "output_type": "execute_result"
    }
   ],
   "source": [
    "preds2 = model.predict(test[traincols])\n",
    "pd.crosstab(test['EVENT_TX'], preds2, rownames=['actual'], colnames=['preds2'])"
   ]
  },
  {
   "cell_type": "code",
   "execution_count": 83,
   "metadata": {
    "collapsed": false,
    "scrolled": true
   },
   "outputs": [
    {
     "name": "stdout",
     "output_type": "stream",
     "text": [
      "0.6803363985813494\n"
     ]
    }
   ],
   "source": [
    "# corrects = len(test[(((preds2!=\"O\") & (test['EVENT_TX'] !=\"O\"))) | (preds2 == test['EVENT_TX'])])\n",
    "corrects = len(test[preds2 == test['EVENT_TX']])\n",
    "print(corrects/len(test))"
   ]
  },
  {
   "cell_type": "markdown",
   "metadata": {},
   "source": [
    "# Predict probability"
   ]
  },
  {
   "cell_type": "code",
   "execution_count": 86,
   "metadata": {
    "collapsed": false
   },
   "outputs": [
    {
     "name": "stdout",
     "output_type": "stream",
     "text": [
      "[[ 0.44996271  0.22582015  1.3321995   0.12743884  2.34720025  2.45606884\n",
      "  -0.57763811 -0.46501923]]\n",
      "K means:\n",
      "['O']\n",
      "Double HR Out Single Triple Walk\n",
      "[[ 0.          0.13333333  0.7         0.06666667  0.          0.1       ]]\n",
      "\n",
      "\n",
      "\n",
      "Random forest :\n",
      "['O']\n",
      "Double HR Out Single Triple Walk\n",
      "[[ 0.03        0.05333333  0.57566667  0.18766667  0.          0.15333333]]\n"
     ]
    }
   ],
   "source": [
    "batter_name = \"Derek Jeter\"\n",
    "pitcher_name = \"Jon Lester\"\n",
    "\n",
    "\n",
    "#don't edit below\n",
    "\n",
    "arr = np.concatenate([ba2014[['OBP','SLG','BB','HR','H','AB']].loc[[batter_name]].values,pa2014[['FIP','WHIP']].loc[[pitcher_name]]],axis=1)\n",
    "\n",
    "kpred =  model.predict(arr)\n",
    "kpredpro = model.predict_proba(arr)\n",
    "print(\"K means:\")\n",
    "print(kpred)\n",
    "print(\"Double\",\"HR\",\"Out\",\"Single\",\"Triple\",\"Walk\")\n",
    "print(kpredpro)\n",
    "print(\"\\n\\n\")\n",
    "clfpred = clf.predict(arr)\n",
    "clfpredpro = clf.predict_proba(arr)\n",
    "print(\"Random forest :\")\n",
    "print(clfpred)\n",
    "print(\"Double\",\"HR\",\"Out\",\"Single\",\"Triple\",\"Walk\")\n",
    "print(clfpredpro)\n"
   ]
  },
  {
   "cell_type": "markdown",
   "metadata": {},
   "source": [
    "# games"
   ]
  },
  {
   "cell_type": "code",
   "execution_count": null,
   "metadata": {
    "collapsed": false
   },
   "outputs": [],
   "source": [
    "newdf = pd.DataFrame()\n",
    "newdf[['BAT_ID','PIT_ID']] = atbats[['BAT_ID','PIT_ID']]\n",
    "print(len(newdf))\n",
    "newdf.drop_duplicates(inplace=True)\n",
    "print(len(newdf))\n",
    "\n",
    "def rowfunc(row):\n",
    "    rows = atbats[(atbats['BAT_ID']==row[0])&(atbats['PIT_ID']==row[1])]\n",
    "    if len(rows) == 0:\n",
    "        return 0\n",
    "    return rows['H'].sum(skipna=True)/len(rows)\n",
    "\n",
    "newdf['HIT_AVG'] = newdf.apply(rowfunc,axis = 1)\n",
    "newdf.head(50)"
   ]
  },
  {
   "cell_type": "code",
   "execution_count": null,
   "metadata": {
    "collapsed": true
   },
   "outputs": [],
   "source": []
  }
 ],
 "metadata": {
  "kernelspec": {
   "display_name": "Python [py3k]",
   "language": "python",
   "name": "Python [py3k]"
  },
  "language_info": {
   "codemirror_mode": {
    "name": "ipython",
    "version": 3
   },
   "file_extension": ".py",
   "mimetype": "text/x-python",
   "name": "python",
   "nbconvert_exporter": "python",
   "pygments_lexer": "ipython3",
   "version": "3.5.1"
  }
 },
 "nbformat": 4,
 "nbformat_minor": 0
}
